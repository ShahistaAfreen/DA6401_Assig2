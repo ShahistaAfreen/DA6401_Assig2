{
  "cells": [
    {
      "cell_type": "markdown",
      "metadata": {
        "id": "view-in-github",
        "colab_type": "text"
      },
      "source": [
        "<a href=\"https://colab.research.google.com/github/ShahistaAfreen/DA6401_Assig2/blob/main/NA21B050_DLA2_PartB.ipynb\" target=\"_parent\"><img src=\"https://colab.research.google.com/assets/colab-badge.svg\" alt=\"Open In Colab\"/></a>"
      ]
    },
    {
      "cell_type": "markdown",
      "metadata": {
        "id": "rTVyOR9Q070J"
      },
      "source": [
        "**Q - 1**"
      ]
    },
    {
      "cell_type": "markdown",
      "metadata": {
        "id": "sWq1mINUqJ3N"
      },
      "source": [
        "##  Handling Image Dimension and Class Count Mismatches in Pre-trained Models\n",
        "\n",
        "###  Image Dimension Mismatch\n",
        "\n",
        "To address the potential difference in image dimensions between your naturalist dataset and ImageNet (on which many models are pre-trained):\n",
        "\n",
        "####  Solution:\n",
        "Use image resizing and rescaling transformations to match the input size expected by the pre-trained model.\n",
        "\n",
        "Most ImageNet models expect inputs of **224×224 pixels**.\n",
        "\n",
        "####  PyTorch Transformations:\n",
        "\n",
        "```python\n",
        "from torchvision import transforms\n",
        "\n",
        "transform = transforms.Compose([\n",
        "    transforms.Resize(256),                     # Resize shorter side to 256\n",
        "    transforms.CenterCrop(224),                # Crop to 224x224\n",
        "    transforms.ToTensor(),                     \n",
        "    transforms.Normalize(                       # Normalize using ImageNet's mean and std\n",
        "        mean=[0.485, 0.456, 0.406],             \n",
        "        std=[0.229, 0.224, 0.225]\n",
        "    )\n",
        "])\n"
      ]
    },
    {
      "cell_type": "markdown",
      "metadata": {
        "id": "yZN7yTt1q6Wr"
      },
      "source": [
        "###  Class Count Mismatch\n",
        "\n",
        "Pre-trained ImageNet models have **1000 output classes**, but your naturalist dataset has **10 classes**.\n",
        "\n",
        "####  Solution:\n",
        "\n",
        "Replace the final classification layer of the pre-trained model with a new one that outputs **10 classes**.\n",
        "\n",
        "####  PyTorch Implementation:\n",
        "\n",
        "For models like **ResNet**:\n",
        "```python\n",
        "import torch.nn as nn\n",
        "from torchvision import models\n",
        "\n",
        "model = models.resnet18(pretrained=True)\n",
        "\n",
        "# Optionally freeze earlier layers if you're only training the classifier\n",
        "# for param in model.parameters():\n",
        "#     param.requires_grad = False\n",
        "\n",
        "# Replace the final fully connected layer\n",
        "model.fc = nn.Linear(model.fc.in_features, 10)\n"
      ]
    },
    {
      "cell_type": "markdown",
      "metadata": {
        "id": "nQJER4jBIioG"
      },
      "source": [
        "**Q - 2**"
      ]
    },
    {
      "cell_type": "markdown",
      "metadata": {
        "id": "5iq6HVorrRJf"
      },
      "source": [
        "###  Question 2 – Strategies for Fine-Tuning Large Pretrained Models\n",
        "\n",
        "To keep the training computationally feasible while using large pre-trained models like ResNet50, VGG, EfficientNetV2, etc., the following fine-tuning strategies were used:\n",
        "\n",
        "-  **Freezing all layers except the final fully connected (classification) layer**  \n",
        "  - This significantly reduces the number of trainable parameters.\n",
        "  - The model only learns to classify based on pre-extracted features.\n",
        "\n",
        "-  **Freezing up to the last `k` layers and fine-tuning the remaining layers**  \n",
        "  - Example: Freeze all layers up to `layer3` in ResNet and fine-tune `layer4` and `fc`.\n",
        "  - Allows the model to adapt higher-level features to the new dataset.\n",
        "\n",
        "-  **Gradual unfreezing**  \n",
        "  - Initially freeze all layers, then progressively unfreeze and fine-tune deeper layers over epochs.\n",
        "  - Helps avoid catastrophic forgetting and stabilizes training.\n",
        "\n",
        "These strategies balance computational efficiency and model adaptability when transferring from ImageNet to the iNaturalist dataset.\n"
      ]
    },
    {
      "cell_type": "code",
      "source": [
        "import os\n",
        "import random\n",
        "import torch\n",
        "import torch.nn as nn\n",
        "import torchvision\n",
        "import torchvision.transforms as T\n",
        "\n",
        "from torch.utils.data import DataLoader, Subset\n",
        "from torchvision.datasets import ImageFolder\n",
        "\n",
        "import pytorch_lightning as pl\n",
        "from pytorch_lightning.callbacks.early_stopping import EarlyStopping\n",
        "from pytorch_lightning.loggers.wandb import WandbLogger\n",
        "\n",
        "import wandb\n",
        "from google.colab import drive"
      ],
      "metadata": {
        "id": "Z8eG6Vq1HLsv"
      },
      "execution_count": null,
      "outputs": []
    },
    {
      "cell_type": "code",
      "source": [
        "drive.mount('/content/drive', force_remount=True)\n",
        "\n",
        "# Set global seed for reproducibility\n",
        "pl.seed_everything(42)\n",
        "os.environ[\"PYTORCH_CUDA_ALLOC_CONF\"] = \"expandable_segments:True\"\n",
        "\n",
        "# Updated dataset path to match your specific path\n",
        "dataset_path = '/content/drive/MyDrive/DL_A2_Dataset'\n",
        "train_dir = os.path.join(dataset_path, 'train')\n",
        "val_dir = os.path.join(dataset_path, 'validation')\n",
        "test_dir = os.path.join(dataset_path, 'val')  # For testing"
      ],
      "metadata": {
        "id": "dAPIASZnHRE0"
      },
      "execution_count": null,
      "outputs": []
    },
    {
      "cell_type": "code",
      "execution_count": null,
      "metadata": {
        "colab": {
          "background_save": true,
          "base_uri": "https://localhost:8080/",
          "height": 703,
          "referenced_widgets": [
            "cc84bcc420dd4324a496ef92bad28b30",
            "077260c87c5f448f94f876685aca4eef",
            "050e3d715c05428bb607e6b805daebaa",
            "6f383ad9ba554f0a9fab262dd9f3896b",
            "df00fbe6e51d43c19c0c3587eb757ed9",
            "a58946b59188419db008ed91acbbd2d4",
            "c891bca050484e4ba9bd1cf0bcf37f66",
            "e87e947e62514626bcbf7660460aa3a7",
            "4effa0520130481abe034a5079ac16f2",
            "08845d863ce448539af2eb75cc54dadf",
            "2fbb4deefb0647a0ac9ca6c411658967",
            "0fb85af83e3e44f2922cb300af0d4c27",
            "998aa2d213d14caba7d4e1f0e1e55321",
            "a95d0e33f3854ca2b2966741f9a862d0",
            "b9c4465cf9e34f528041a5f6aa3cd510",
            "8a5b3944902c4b99a3fb5537efbf766e",
            "c0485cb5f101420182061d631d4f09ba",
            "cb2670097f6e471198e39d56761afaef",
            "5c913a60326f438b922799314bc81c2a",
            "31a3f3dd0b444cf8a977ef95e673f727",
            "fc456080b601480387f5bd6658063035",
            "c00cba178291466e9fe3144a8ed98644"
          ]
        },
        "id": "6CKi-aJnvO8e",
        "outputId": "3b4ea7b1-2329-4674-d128-a356c47051f3"
      },
      "outputs": [
        {
          "name": "stderr",
          "output_type": "stream",
          "text": [
            "INFO:lightning_fabric.utilities.seed:Seed set to 42\n"
          ]
        },
        {
          "name": "stdout",
          "output_type": "stream",
          "text": [
            "Mounted at /content/drive\n"
          ]
        },
        {
          "name": "stderr",
          "output_type": "stream",
          "text": [
            "Downloading: \"https://download.pytorch.org/models/resnet50-11ad3fa6.pth\" to /root/.cache/torch/hub/checkpoints/resnet50-11ad3fa6.pth\n",
            "100%|██████████| 97.8M/97.8M [00:01<00:00, 91.1MB/s]\n",
            "INFO:pytorch_lightning.utilities.rank_zero:You are using the plain ModelCheckpoint callback. Consider using LitModelCheckpoint which with seamless uploading to Model registry.\n",
            "INFO:pytorch_lightning.utilities.rank_zero:GPU available: False, used: False\n",
            "INFO:pytorch_lightning.utilities.rank_zero:TPU available: False, using: 0 TPU cores\n",
            "INFO:pytorch_lightning.utilities.rank_zero:HPU available: False, using: 0 HPUs\n",
            "\u001b[34m\u001b[1mwandb\u001b[0m: Using wandb-core as the SDK backend.  Please refer to https://wandb.me/wandb-core for more information.\n"
          ]
        },
        {
          "data": {
            "application/javascript": [
              "\n",
              "        window._wandbApiKey = new Promise((resolve, reject) => {\n",
              "            function loadScript(url) {\n",
              "            return new Promise(function(resolve, reject) {\n",
              "                let newScript = document.createElement(\"script\");\n",
              "                newScript.onerror = reject;\n",
              "                newScript.onload = resolve;\n",
              "                document.body.appendChild(newScript);\n",
              "                newScript.src = url;\n",
              "            });\n",
              "            }\n",
              "            loadScript(\"https://cdn.jsdelivr.net/npm/postmate/build/postmate.min.js\").then(() => {\n",
              "            const iframe = document.createElement('iframe')\n",
              "            iframe.style.cssText = \"width:0;height:0;border:none\"\n",
              "            document.body.appendChild(iframe)\n",
              "            const handshake = new Postmate({\n",
              "                container: iframe,\n",
              "                url: 'https://wandb.ai/authorize'\n",
              "            });\n",
              "            const timeout = setTimeout(() => reject(\"Couldn't auto authenticate\"), 5000)\n",
              "            handshake.then(function(child) {\n",
              "                child.on('authorize', data => {\n",
              "                    clearTimeout(timeout)\n",
              "                    resolve(data)\n",
              "                });\n",
              "            });\n",
              "            })\n",
              "        });\n",
              "    "
            ],
            "text/plain": [
              "<IPython.core.display.Javascript object>"
            ]
          },
          "metadata": {},
          "output_type": "display_data"
        },
        {
          "name": "stderr",
          "output_type": "stream",
          "text": [
            "\u001b[34m\u001b[1mwandb\u001b[0m: Logging into wandb.ai. (Learn how to deploy a W&B server locally: https://wandb.me/wandb-server)\n",
            "\u001b[34m\u001b[1mwandb\u001b[0m: You can find your API key in your browser here: https://wandb.ai/authorize\n",
            "wandb: Paste an API key from your profile and hit enter:\u001b[34m\u001b[1mwandb\u001b[0m: \u001b[33mWARNING\u001b[0m If you're specifying your api key in code, ensure this code is not shared publicly.\n",
            "\u001b[34m\u001b[1mwandb\u001b[0m: \u001b[33mWARNING\u001b[0m Consider setting the WANDB_API_KEY environment variable, or running `wandb login` from the command line.\n",
            "\u001b[34m\u001b[1mwandb\u001b[0m: No netrc file found, creating one.\n",
            "\u001b[34m\u001b[1mwandb\u001b[0m: Appending key for api.wandb.ai to your netrc file: /root/.netrc\n",
            "\u001b[34m\u001b[1mwandb\u001b[0m: Currently logged in as: \u001b[33mna21b050\u001b[0m (\u001b[33mna21b050-iit-madras\u001b[0m) to \u001b[32mhttps://api.wandb.ai\u001b[0m. Use \u001b[1m`wandb login --relogin`\u001b[0m to force relogin\n"
          ]
        },
        {
          "data": {
            "text/html": [
              "Tracking run with wandb version 0.19.9"
            ],
            "text/plain": [
              "<IPython.core.display.HTML object>"
            ]
          },
          "metadata": {},
          "output_type": "display_data"
        },
        {
          "data": {
            "text/html": [
              "Run data is saved locally in <code>./wandb/run-20250421_052613-z9as8rsr</code>"
            ],
            "text/plain": [
              "<IPython.core.display.HTML object>"
            ]
          },
          "metadata": {},
          "output_type": "display_data"
        },
        {
          "data": {
            "text/html": [
              "Syncing run <strong><a href='https://wandb.ai/na21b050-iit-madras/dl-assignment-resnet/runs/z9as8rsr' target=\"_blank\">head_only</a></strong> to <a href='https://wandb.ai/na21b050-iit-madras/dl-assignment-resnet' target=\"_blank\">Weights & Biases</a> (<a href='https://wandb.me/developer-guide' target=\"_blank\">docs</a>)<br>"
            ],
            "text/plain": [
              "<IPython.core.display.HTML object>"
            ]
          },
          "metadata": {},
          "output_type": "display_data"
        },
        {
          "data": {
            "text/html": [
              " View project at <a href='https://wandb.ai/na21b050-iit-madras/dl-assignment-resnet' target=\"_blank\">https://wandb.ai/na21b050-iit-madras/dl-assignment-resnet</a>"
            ],
            "text/plain": [
              "<IPython.core.display.HTML object>"
            ]
          },
          "metadata": {},
          "output_type": "display_data"
        },
        {
          "data": {
            "text/html": [
              " View run at <a href='https://wandb.ai/na21b050-iit-madras/dl-assignment-resnet/runs/z9as8rsr' target=\"_blank\">https://wandb.ai/na21b050-iit-madras/dl-assignment-resnet/runs/z9as8rsr</a>"
            ],
            "text/plain": [
              "<IPython.core.display.HTML object>"
            ]
          },
          "metadata": {},
          "output_type": "display_data"
        },
        {
          "name": "stderr",
          "output_type": "stream",
          "text": [
            "INFO:pytorch_lightning.callbacks.model_summary:\n",
            "  | Name      | Type             | Params | Mode \n",
            "-------------------------------------------------------\n",
            "0 | criterion | CrossEntropyLoss | 0      | train\n",
            "1 | backbone  | ResNet           | 25.6 M | train\n",
            "-------------------------------------------------------\n",
            "2.1 M     Trainable params\n",
            "23.5 M    Non-trainable params\n",
            "25.6 M    Total params\n",
            "102.268   Total estimated model params size (MB)\n",
            "155       Modules in train mode\n",
            "0         Modules in eval mode\n"
          ]
        },
        {
          "data": {
            "application/vnd.jupyter.widget-view+json": {
              "model_id": "cc84bcc420dd4324a496ef92bad28b30",
              "version_major": 2,
              "version_minor": 0
            },
            "text/plain": [
              "Sanity Checking: |          | 0/? [00:00<?, ?it/s]"
            ]
          },
          "metadata": {},
          "output_type": "display_data"
        },
        {
          "data": {
            "application/vnd.jupyter.widget-view+json": {
              "model_id": "0fb85af83e3e44f2922cb300af0d4c27",
              "version_major": 2,
              "version_minor": 0
            },
            "text/plain": [
              "Training: |          | 0/? [00:00<?, ?it/s]"
            ]
          },
          "metadata": {},
          "output_type": "display_data"
        }
      ],
      "source": [
        "# Utility to generate a balanced dataset sample\n",
        "def create_balanced_subset(dataset, max_samples_per_class=100):\n",
        "    import random\n",
        "    classwise_indices = {i: [] for i in range(len(dataset.classes))}\n",
        "    for idx, (_, label) in enumerate(dataset.samples):\n",
        "        classwise_indices[label].append(idx)\n",
        "\n",
        "    selected_indices = []\n",
        "    for label_indices in classwise_indices.values():\n",
        "        count = min(max_samples_per_class, len(label_indices))\n",
        "        selected_indices.extend(random.sample(label_indices, count))\n",
        "\n",
        "    return Subset(dataset, selected_indices)\n",
        "\n",
        "\n",
        "# LightningModule using ResNet50 with various finetuning options\n",
        "class FinetuneResNet(pl.LightningModule):\n",
        "    def __init__(self, mode=\"head_only\", unfreeze_from=5):\n",
        "        super().__init__()\n",
        "        self.mode = mode\n",
        "        self.learning_rate = 1e-4\n",
        "        self.loss_fn = nn.CrossEntropyLoss()\n",
        "\n",
        "        base_model = torchvision.models.resnet50(weights=\"ResNet50_Weights.DEFAULT\")\n",
        "        orig_fc = base_model.fc\n",
        "\n",
        "        base_model.fc = nn.Sequential(\n",
        "            orig_fc,\n",
        "            nn.ReLU(),\n",
        "            nn.Linear(1000, 10)\n",
        "        )\n",
        "\n",
        "        self.model = base_model\n",
        "        self._set_trainable_layers(unfreeze_from)\n",
        "\n",
        "    def _set_trainable_layers(self, from_layer):\n",
        "        if self.mode == \"head_only\":\n",
        "            for param in self.model.parameters():\n",
        "                param.requires_grad = False\n",
        "            for param in self.model.fc.parameters():\n",
        "                param.requires_grad = True\n",
        "\n",
        "        elif self.mode == \"partial\":\n",
        "            for idx, child in enumerate(self.model.children()):\n",
        "                for param in child.parameters():\n",
        "                    param.requires_grad = (idx >= from_layer)\n",
        "\n",
        "        elif self.mode == \"last_block\":\n",
        "            for name, param in self.model.named_parameters():\n",
        "                param.requires_grad = \"layer4\" in name or \"fc\" in name\n",
        "\n",
        "    def forward(self, x):\n",
        "        return self.model(x)\n",
        "\n",
        "    def training_step(self, batch, batch_idx):\n",
        "        x, y = batch\n",
        "        logits = self(x)\n",
        "        loss = self.loss_fn(logits, y)\n",
        "        acc = (logits.argmax(dim=1) == y).float().mean()\n",
        "        self.log_dict({\"train_loss\": loss, \"train_accuracy\": acc}, prog_bar=True)\n",
        "        return loss\n",
        "\n",
        "    def validation_step(self, batch, batch_idx):\n",
        "        x, y = batch\n",
        "        logits = self(x)\n",
        "        val_loss = self.loss_fn(logits, y)\n",
        "        val_acc = (logits.argmax(dim=1) == y).float().mean()\n",
        "        self.log_dict({\"val_loss\": val_loss, \"val_accuracy\": val_acc}, prog_bar=True)\n",
        "\n",
        "    def configure_optimizers(self):\n",
        "        trainable = filter(lambda p: p.requires_grad, self.parameters())\n",
        "        return torch.optim.Adam(trainable, lr=self.learning_rate)\n",
        "\n",
        "\n",
        "# Custom DataModule for managing train/val/test splits\n",
        "class ResNetDataModule(pl.LightningDataModule):\n",
        "    def __init__(self, batch_size=64):\n",
        "        super().__init__()\n",
        "        self.train_dir = train_dir\n",
        "        self.val_dir = val_dir\n",
        "        self.test_dir = test_dir\n",
        "        self.batch_size = batch_size\n",
        "\n",
        "        self.common_transform = T.Compose([\n",
        "            T.Resize((224, 224)),\n",
        "            T.ToTensor(),\n",
        "            T.Normalize(mean=[0.4712, 0.4600, 0.3896], std=[0.2406, 0.2301, 0.2406])\n",
        "        ])\n",
        "\n",
        "    def setup(self, stage=None):\n",
        "        if stage in [None, 'fit']:\n",
        "            self.train_data = ImageFolder(self.train_dir, transform=self.common_transform)\n",
        "            self.val_data = ImageFolder(self.val_dir, transform=self.common_transform)\n",
        "        if stage in [None, 'test']:\n",
        "            self.test_data = ImageFolder(self.test_dir, transform=self.common_transform)\n",
        "\n",
        "    def train_dataloader(self):\n",
        "        return DataLoader(self.train_data, batch_size=self.batch_size, shuffle=True, num_workers=2)\n",
        "\n",
        "    def val_dataloader(self):\n",
        "        return DataLoader(self.val_data, batch_size=self.batch_size, shuffle=False, num_workers=2)\n",
        "\n",
        "    def test_dataloader(self):\n",
        "        return DataLoader(self.test_data, batch_size=self.batch_size, shuffle=False, num_workers=2)\n",
        "\n",
        "\n",
        "# Single experiment run with one strategy\n",
        "def run_experiment(strategy):\n",
        "    logger = WandbLogger(project=\"dl-resnet-experiments\", name=strategy)\n",
        "    model = FinetuneResNet(mode=strategy)\n",
        "    datamodule = ResNetDataModule()\n",
        "\n",
        "    trainer = pl.Trainer(\n",
        "        max_epochs=5,\n",
        "        logger=logger,\n",
        "        accelerator=\"auto\",\n",
        "        callbacks=[EarlyStopping(monitor=\"val_accuracy\", mode=\"max\", patience=2)]\n",
        "    )\n",
        "\n",
        "    trainer.fit(model, datamodule=datamodule)\n",
        "    wandb.finish()\n",
        "\n",
        "\n",
        "# Execute for all selected strategies\n",
        "if __name__ == \"__main__\":\n",
        "    strategies = [\"head_only\", \"partial\", \"last_block\"]\n",
        "    for strategy in strategies:\n",
        "        run_experiment(strategy)"
      ]
    },
    {
      "cell_type": "code",
      "execution_count": null,
      "metadata": {
        "id": "4_OdeI_wvbCT"
      },
      "outputs": [],
      "source": [
        "!pip install pytorch-lightning"
      ]
    },
    {
      "cell_type": "markdown",
      "metadata": {
        "id": "6XO-5rNxkDFP"
      },
      "source": [
        "**Q - 3**"
      ]
    },
    {
      "cell_type": "code",
      "execution_count": null,
      "metadata": {
        "id": "3RQlkOeV1v4x"
      },
      "outputs": [],
      "source": [
        "# Verify dataset directories exist\n",
        "print(f\"Training path found: {os.path.exists(train_dir)}\")\n",
        "print(f\"Validation path found: {os.path.exists(val_dir)}\")\n",
        "print(f\"Testing path found: {os.path.exists(test_dir)}\")\n",
        "\n",
        "# LightningModule for transfer learning\n",
        "class ResNetFineTuner(pl.LightningModule):\n",
        "    def __init__(self, finetune_mode=\"layer4_fc\"):\n",
        "        super().__init__()\n",
        "        self.learning_rate = 1e-4\n",
        "        self.finetune_mode = finetune_mode\n",
        "        self.loss_fn = nn.CrossEntropyLoss()\n",
        "\n",
        "        # Load pretrained ResNet50 model\n",
        "        model = torchvision.models.resnet50(weights=\"ResNet50_Weights.DEFAULT\")\n",
        "        original_output = model.fc\n",
        "\n",
        "        # Modify classifier head\n",
        "        model.fc = nn.Sequential(\n",
        "            original_output,\n",
        "            nn.ReLU(),\n",
        "            nn.Linear(1000, 10)\n",
        "        )\n",
        "\n",
        "        self.model = model\n",
        "        self._set_trainable_layers()\n",
        "\n",
        "    def _set_trainable_layers(self):\n",
        "        \"\"\"Configure which layers to fine-tune.\"\"\"\n",
        "        for name, param in self.model.named_parameters():\n",
        "            param.requires_grad = (\"layer4\" in name or \"fc\" in name)\n",
        "\n",
        "    def forward(self, x):\n",
        "        return self.model(x)\n",
        "\n",
        "    def training_step(self, batch, _):\n",
        "        inputs, labels = batch\n",
        "        outputs = self(inputs)\n",
        "        loss = self.loss_fn(outputs, labels)\n",
        "        acc = (outputs.argmax(1) == labels).float().mean()\n",
        "        self.log_dict({\"train_loss\": loss, \"train_accuracy\": acc}, prog_bar=True)\n",
        "        return loss\n",
        "\n",
        "    def validation_step(self, batch, _):\n",
        "        inputs, labels = batch\n",
        "        outputs = self(inputs)\n",
        "        loss = self.loss_fn(outputs, labels)\n",
        "        acc = (outputs.argmax(1) == labels).float().mean()\n",
        "        self.log_dict({\"val_loss\": loss, \"val_accuracy\": acc}, prog_bar=True)\n",
        "\n",
        "    def test_step(self, batch, _):\n",
        "        inputs, labels = batch\n",
        "        outputs = self(inputs)\n",
        "        loss = self.loss_fn(outputs, labels)\n",
        "        acc = (outputs.argmax(1) == labels).float().mean()\n",
        "        self.log_dict({\"test_loss\": loss, \"test_accuracy\": acc}, prog_bar=True)\n",
        "\n",
        "    def configure_optimizers(self):\n",
        "        params = filter(lambda p: p.requires_grad, self.parameters())\n",
        "        return torch.optim.Adam(params, lr=self.learning_rate)\n",
        "\n",
        "# LightningDataModule for loading datasets\n",
        "class ImageClassificationData(pl.LightningDataModule):\n",
        "    def __init__(self, batch_size=64):\n",
        "        super().__init__()\n",
        "        self.train_path = train_dir\n",
        "        self.val_path = val_dir\n",
        "        self.test_path = test_dir\n",
        "        self.batch_size = batch_size\n",
        "\n",
        "    def setup(self, stage=None):\n",
        "        transform = T.Compose([\n",
        "            T.Resize((224, 224)),\n",
        "            T.ToTensor(),\n",
        "            T.Normalize(mean=[0.4712, 0.4600, 0.3896], std=[0.2406, 0.2301, 0.2406])\n",
        "        ])\n",
        "\n",
        "        if stage in (\"fit\", None):\n",
        "            self.train_data = ImageFolder(self.train_path, transform=transform)\n",
        "            self.val_data = ImageFolder(self.val_path, transform=transform)\n",
        "\n",
        "        if stage in (\"test\", None):\n",
        "            self.test_data = ImageFolder(self.test_path, transform=transform)\n",
        "\n",
        "    def train_dataloader(self):\n",
        "        return DataLoader(self.train_data, batch_size=self.batch_size, shuffle=True, num_workers=2)\n",
        "\n",
        "    def val_dataloader(self):\n",
        "        return DataLoader(self.val_data, batch_size=self.batch_size, shuffle=False, num_workers=2)\n",
        "\n",
        "    def test_dataloader(self):\n",
        "        return DataLoader(self.test_data, batch_size=self.batch_size, shuffle=False, num_workers=2)\n",
        "\n",
        "# Run the experiment\n",
        "def run_experiment():\n",
        "    model_name = \"resnet_last_block\"\n",
        "    wandb_logger = WandbLogger(project=\"image-classification\", name=model_name)\n",
        "\n",
        "    model = ResNetFineTuner(finetune_mode=\"layer4_fc\")\n",
        "    datamodule = ImageClassificationData()\n",
        "\n",
        "    trainer = pl.Trainer(\n",
        "        max_epochs=5,\n",
        "        accelerator=\"auto\",\n",
        "        logger=wandb_logger\n",
        "    )\n",
        "\n",
        "    trainer.fit(model, datamodule=datamodule)\n",
        "    trainer.test(model, datamodule=datamodule)\n",
        "    wandb.finish()\n",
        "\n",
        "# Trigger run\n",
        "run_experiment()"
      ]
    },
    {
      "cell_type": "markdown",
      "metadata": {
        "id": "BpzY6kVYJ2CX"
      },
      "source": [
        "### Inferences: Fine-Tuning vs Training from Scratch\n",
        "\n",
        "- Fine-tuning a large pretrained model (**ResNet50**) significantly outperformed training a custom CNN from scratch, even with fewer training epochs.\n",
        "- While training from scratch achieved a test accuracy of **41.95%**, fine-tuning the pretrained model using the **last_block** strategy nearly **doubled the accuracy** to **84.05%**.\n",
        "- The **last_block** strategy was selected after evaluating all three strategies (head-only, partial, last_block) on **200 training samples per class**, and choosing the one that yielded the **highest validation accuracy**.\n",
        "- Fine-tuning leverages the **transfer of general visual features** learned from large-scale datasets (e.g., ImageNet), resulting in **faster convergence** and **better generalization**.\n",
        "- The **last_block** strategy offers a good trade-off between **computational efficiency** and **performance**, avoiding the risks of overfitting or instability from full-network fine-tuning while still allowing adaptation of the deeper, more task-specific layers.\n"
      ]
    }
  ],
  "metadata": {
    "accelerator": "GPU",
    "colab": {
      "gpuType": "T4",
      "provenance": [],
      "include_colab_link": true
    },
    "kernelspec": {
      "display_name": "Python 3",
      "name": "python3"
    },
    "language_info": {
      "name": "python"
    },
    "widgets": {
      "application/vnd.jupyter.widget-state+json": {
        "050e3d715c05428bb607e6b805daebaa": {
          "model_module": "@jupyter-widgets/controls",
          "model_module_version": "1.5.0",
          "model_name": "FloatProgressModel",
          "state": {
            "_dom_classes": [],
            "_model_module": "@jupyter-widgets/controls",
            "_model_module_version": "1.5.0",
            "_model_name": "FloatProgressModel",
            "_view_count": null,
            "_view_module": "@jupyter-widgets/controls",
            "_view_module_version": "1.5.0",
            "_view_name": "ProgressView",
            "bar_style": "",
            "description": "",
            "description_tooltip": null,
            "layout": "IPY_MODEL_e87e947e62514626bcbf7660460aa3a7",
            "max": 2,
            "min": 0,
            "orientation": "horizontal",
            "style": "IPY_MODEL_4effa0520130481abe034a5079ac16f2",
            "value": 2
          }
        },
        "077260c87c5f448f94f876685aca4eef": {
          "model_module": "@jupyter-widgets/controls",
          "model_module_version": "1.5.0",
          "model_name": "HTMLModel",
          "state": {
            "_dom_classes": [],
            "_model_module": "@jupyter-widgets/controls",
            "_model_module_version": "1.5.0",
            "_model_name": "HTMLModel",
            "_view_count": null,
            "_view_module": "@jupyter-widgets/controls",
            "_view_module_version": "1.5.0",
            "_view_name": "HTMLView",
            "description": "",
            "description_tooltip": null,
            "layout": "IPY_MODEL_a58946b59188419db008ed91acbbd2d4",
            "placeholder": "​",
            "style": "IPY_MODEL_c891bca050484e4ba9bd1cf0bcf37f66",
            "value": "Sanity Checking DataLoader 0: 100%"
          }
        },
        "08845d863ce448539af2eb75cc54dadf": {
          "model_module": "@jupyter-widgets/base",
          "model_module_version": "1.2.0",
          "model_name": "LayoutModel",
          "state": {
            "_model_module": "@jupyter-widgets/base",
            "_model_module_version": "1.2.0",
            "_model_name": "LayoutModel",
            "_view_count": null,
            "_view_module": "@jupyter-widgets/base",
            "_view_module_version": "1.2.0",
            "_view_name": "LayoutView",
            "align_content": null,
            "align_items": null,
            "align_self": null,
            "border": null,
            "bottom": null,
            "display": null,
            "flex": null,
            "flex_flow": null,
            "grid_area": null,
            "grid_auto_columns": null,
            "grid_auto_flow": null,
            "grid_auto_rows": null,
            "grid_column": null,
            "grid_gap": null,
            "grid_row": null,
            "grid_template_areas": null,
            "grid_template_columns": null,
            "grid_template_rows": null,
            "height": null,
            "justify_content": null,
            "justify_items": null,
            "left": null,
            "margin": null,
            "max_height": null,
            "max_width": null,
            "min_height": null,
            "min_width": null,
            "object_fit": null,
            "object_position": null,
            "order": null,
            "overflow": null,
            "overflow_x": null,
            "overflow_y": null,
            "padding": null,
            "right": null,
            "top": null,
            "visibility": null,
            "width": null
          }
        },
        "0fb85af83e3e44f2922cb300af0d4c27": {
          "model_module": "@jupyter-widgets/controls",
          "model_module_version": "1.5.0",
          "model_name": "HBoxModel",
          "state": {
            "_dom_classes": [],
            "_model_module": "@jupyter-widgets/controls",
            "_model_module_version": "1.5.0",
            "_model_name": "HBoxModel",
            "_view_count": null,
            "_view_module": "@jupyter-widgets/controls",
            "_view_module_version": "1.5.0",
            "_view_name": "HBoxView",
            "box_style": "",
            "children": [
              "IPY_MODEL_998aa2d213d14caba7d4e1f0e1e55321",
              "IPY_MODEL_a95d0e33f3854ca2b2966741f9a862d0",
              "IPY_MODEL_b9c4465cf9e34f528041a5f6aa3cd510"
            ],
            "layout": "IPY_MODEL_8a5b3944902c4b99a3fb5537efbf766e"
          }
        },
        "2fbb4deefb0647a0ac9ca6c411658967": {
          "model_module": "@jupyter-widgets/controls",
          "model_module_version": "1.5.0",
          "model_name": "DescriptionStyleModel",
          "state": {
            "_model_module": "@jupyter-widgets/controls",
            "_model_module_version": "1.5.0",
            "_model_name": "DescriptionStyleModel",
            "_view_count": null,
            "_view_module": "@jupyter-widgets/base",
            "_view_module_version": "1.2.0",
            "_view_name": "StyleView",
            "description_width": ""
          }
        },
        "31a3f3dd0b444cf8a977ef95e673f727": {
          "model_module": "@jupyter-widgets/controls",
          "model_module_version": "1.5.0",
          "model_name": "ProgressStyleModel",
          "state": {
            "_model_module": "@jupyter-widgets/controls",
            "_model_module_version": "1.5.0",
            "_model_name": "ProgressStyleModel",
            "_view_count": null,
            "_view_module": "@jupyter-widgets/base",
            "_view_module_version": "1.2.0",
            "_view_name": "StyleView",
            "bar_color": null,
            "description_width": ""
          }
        },
        "4effa0520130481abe034a5079ac16f2": {
          "model_module": "@jupyter-widgets/controls",
          "model_module_version": "1.5.0",
          "model_name": "ProgressStyleModel",
          "state": {
            "_model_module": "@jupyter-widgets/controls",
            "_model_module_version": "1.5.0",
            "_model_name": "ProgressStyleModel",
            "_view_count": null,
            "_view_module": "@jupyter-widgets/base",
            "_view_module_version": "1.2.0",
            "_view_name": "StyleView",
            "bar_color": null,
            "description_width": ""
          }
        },
        "5c913a60326f438b922799314bc81c2a": {
          "model_module": "@jupyter-widgets/base",
          "model_module_version": "1.2.0",
          "model_name": "LayoutModel",
          "state": {
            "_model_module": "@jupyter-widgets/base",
            "_model_module_version": "1.2.0",
            "_model_name": "LayoutModel",
            "_view_count": null,
            "_view_module": "@jupyter-widgets/base",
            "_view_module_version": "1.2.0",
            "_view_name": "LayoutView",
            "align_content": null,
            "align_items": null,
            "align_self": null,
            "border": null,
            "bottom": null,
            "display": null,
            "flex": "2",
            "flex_flow": null,
            "grid_area": null,
            "grid_auto_columns": null,
            "grid_auto_flow": null,
            "grid_auto_rows": null,
            "grid_column": null,
            "grid_gap": null,
            "grid_row": null,
            "grid_template_areas": null,
            "grid_template_columns": null,
            "grid_template_rows": null,
            "height": null,
            "justify_content": null,
            "justify_items": null,
            "left": null,
            "margin": null,
            "max_height": null,
            "max_width": null,
            "min_height": null,
            "min_width": null,
            "object_fit": null,
            "object_position": null,
            "order": null,
            "overflow": null,
            "overflow_x": null,
            "overflow_y": null,
            "padding": null,
            "right": null,
            "top": null,
            "visibility": null,
            "width": null
          }
        },
        "6f383ad9ba554f0a9fab262dd9f3896b": {
          "model_module": "@jupyter-widgets/controls",
          "model_module_version": "1.5.0",
          "model_name": "HTMLModel",
          "state": {
            "_dom_classes": [],
            "_model_module": "@jupyter-widgets/controls",
            "_model_module_version": "1.5.0",
            "_model_name": "HTMLModel",
            "_view_count": null,
            "_view_module": "@jupyter-widgets/controls",
            "_view_module_version": "1.5.0",
            "_view_name": "HTMLView",
            "description": "",
            "description_tooltip": null,
            "layout": "IPY_MODEL_08845d863ce448539af2eb75cc54dadf",
            "placeholder": "​",
            "style": "IPY_MODEL_2fbb4deefb0647a0ac9ca6c411658967",
            "value": " 2/2 [00:44&lt;00:00,  0.04it/s]"
          }
        },
        "8a5b3944902c4b99a3fb5537efbf766e": {
          "model_module": "@jupyter-widgets/base",
          "model_module_version": "1.2.0",
          "model_name": "LayoutModel",
          "state": {
            "_model_module": "@jupyter-widgets/base",
            "_model_module_version": "1.2.0",
            "_model_name": "LayoutModel",
            "_view_count": null,
            "_view_module": "@jupyter-widgets/base",
            "_view_module_version": "1.2.0",
            "_view_name": "LayoutView",
            "align_content": null,
            "align_items": null,
            "align_self": null,
            "border": null,
            "bottom": null,
            "display": "inline-flex",
            "flex": null,
            "flex_flow": "row wrap",
            "grid_area": null,
            "grid_auto_columns": null,
            "grid_auto_flow": null,
            "grid_auto_rows": null,
            "grid_column": null,
            "grid_gap": null,
            "grid_row": null,
            "grid_template_areas": null,
            "grid_template_columns": null,
            "grid_template_rows": null,
            "height": null,
            "justify_content": null,
            "justify_items": null,
            "left": null,
            "margin": null,
            "max_height": null,
            "max_width": null,
            "min_height": null,
            "min_width": null,
            "object_fit": null,
            "object_position": null,
            "order": null,
            "overflow": null,
            "overflow_x": null,
            "overflow_y": null,
            "padding": null,
            "right": null,
            "top": null,
            "visibility": null,
            "width": "100%"
          }
        },
        "998aa2d213d14caba7d4e1f0e1e55321": {
          "model_module": "@jupyter-widgets/controls",
          "model_module_version": "1.5.0",
          "model_name": "HTMLModel",
          "state": {
            "_dom_classes": [],
            "_model_module": "@jupyter-widgets/controls",
            "_model_module_version": "1.5.0",
            "_model_name": "HTMLModel",
            "_view_count": null,
            "_view_module": "@jupyter-widgets/controls",
            "_view_module_version": "1.5.0",
            "_view_name": "HTMLView",
            "description": "",
            "description_tooltip": null,
            "layout": "IPY_MODEL_c0485cb5f101420182061d631d4f09ba",
            "placeholder": "​",
            "style": "IPY_MODEL_cb2670097f6e471198e39d56761afaef",
            "value": "Epoch 0:  12%"
          }
        },
        "a58946b59188419db008ed91acbbd2d4": {
          "model_module": "@jupyter-widgets/base",
          "model_module_version": "1.2.0",
          "model_name": "LayoutModel",
          "state": {
            "_model_module": "@jupyter-widgets/base",
            "_model_module_version": "1.2.0",
            "_model_name": "LayoutModel",
            "_view_count": null,
            "_view_module": "@jupyter-widgets/base",
            "_view_module_version": "1.2.0",
            "_view_name": "LayoutView",
            "align_content": null,
            "align_items": null,
            "align_self": null,
            "border": null,
            "bottom": null,
            "display": null,
            "flex": null,
            "flex_flow": null,
            "grid_area": null,
            "grid_auto_columns": null,
            "grid_auto_flow": null,
            "grid_auto_rows": null,
            "grid_column": null,
            "grid_gap": null,
            "grid_row": null,
            "grid_template_areas": null,
            "grid_template_columns": null,
            "grid_template_rows": null,
            "height": null,
            "justify_content": null,
            "justify_items": null,
            "left": null,
            "margin": null,
            "max_height": null,
            "max_width": null,
            "min_height": null,
            "min_width": null,
            "object_fit": null,
            "object_position": null,
            "order": null,
            "overflow": null,
            "overflow_x": null,
            "overflow_y": null,
            "padding": null,
            "right": null,
            "top": null,
            "visibility": null,
            "width": null
          }
        },
        "a95d0e33f3854ca2b2966741f9a862d0": {
          "model_module": "@jupyter-widgets/controls",
          "model_module_version": "1.5.0",
          "model_name": "FloatProgressModel",
          "state": {
            "_dom_classes": [],
            "_model_module": "@jupyter-widgets/controls",
            "_model_module_version": "1.5.0",
            "_model_name": "FloatProgressModel",
            "_view_count": null,
            "_view_module": "@jupyter-widgets/controls",
            "_view_module_version": "1.5.0",
            "_view_name": "ProgressView",
            "bar_style": "",
            "description": "",
            "description_tooltip": null,
            "layout": "IPY_MODEL_5c913a60326f438b922799314bc81c2a",
            "max": 141,
            "min": 0,
            "orientation": "horizontal",
            "style": "IPY_MODEL_31a3f3dd0b444cf8a977ef95e673f727",
            "value": 17
          }
        },
        "b9c4465cf9e34f528041a5f6aa3cd510": {
          "model_module": "@jupyter-widgets/controls",
          "model_module_version": "1.5.0",
          "model_name": "HTMLModel",
          "state": {
            "_dom_classes": [],
            "_model_module": "@jupyter-widgets/controls",
            "_model_module_version": "1.5.0",
            "_model_name": "HTMLModel",
            "_view_count": null,
            "_view_module": "@jupyter-widgets/controls",
            "_view_module_version": "1.5.0",
            "_view_name": "HTMLView",
            "description": "",
            "description_tooltip": null,
            "layout": "IPY_MODEL_fc456080b601480387f5bd6658063035",
            "placeholder": "​",
            "style": "IPY_MODEL_c00cba178291466e9fe3144a8ed98644",
            "value": " 17/141 [07:42&lt;56:15,  0.04it/s, v_num=8rsr, train_loss=2.190, train_acc=0.141]"
          }
        },
        "c00cba178291466e9fe3144a8ed98644": {
          "model_module": "@jupyter-widgets/controls",
          "model_module_version": "1.5.0",
          "model_name": "DescriptionStyleModel",
          "state": {
            "_model_module": "@jupyter-widgets/controls",
            "_model_module_version": "1.5.0",
            "_model_name": "DescriptionStyleModel",
            "_view_count": null,
            "_view_module": "@jupyter-widgets/base",
            "_view_module_version": "1.2.0",
            "_view_name": "StyleView",
            "description_width": ""
          }
        },
        "c0485cb5f101420182061d631d4f09ba": {
          "model_module": "@jupyter-widgets/base",
          "model_module_version": "1.2.0",
          "model_name": "LayoutModel",
          "state": {
            "_model_module": "@jupyter-widgets/base",
            "_model_module_version": "1.2.0",
            "_model_name": "LayoutModel",
            "_view_count": null,
            "_view_module": "@jupyter-widgets/base",
            "_view_module_version": "1.2.0",
            "_view_name": "LayoutView",
            "align_content": null,
            "align_items": null,
            "align_self": null,
            "border": null,
            "bottom": null,
            "display": null,
            "flex": null,
            "flex_flow": null,
            "grid_area": null,
            "grid_auto_columns": null,
            "grid_auto_flow": null,
            "grid_auto_rows": null,
            "grid_column": null,
            "grid_gap": null,
            "grid_row": null,
            "grid_template_areas": null,
            "grid_template_columns": null,
            "grid_template_rows": null,
            "height": null,
            "justify_content": null,
            "justify_items": null,
            "left": null,
            "margin": null,
            "max_height": null,
            "max_width": null,
            "min_height": null,
            "min_width": null,
            "object_fit": null,
            "object_position": null,
            "order": null,
            "overflow": null,
            "overflow_x": null,
            "overflow_y": null,
            "padding": null,
            "right": null,
            "top": null,
            "visibility": null,
            "width": null
          }
        },
        "c891bca050484e4ba9bd1cf0bcf37f66": {
          "model_module": "@jupyter-widgets/controls",
          "model_module_version": "1.5.0",
          "model_name": "DescriptionStyleModel",
          "state": {
            "_model_module": "@jupyter-widgets/controls",
            "_model_module_version": "1.5.0",
            "_model_name": "DescriptionStyleModel",
            "_view_count": null,
            "_view_module": "@jupyter-widgets/base",
            "_view_module_version": "1.2.0",
            "_view_name": "StyleView",
            "description_width": ""
          }
        },
        "cb2670097f6e471198e39d56761afaef": {
          "model_module": "@jupyter-widgets/controls",
          "model_module_version": "1.5.0",
          "model_name": "DescriptionStyleModel",
          "state": {
            "_model_module": "@jupyter-widgets/controls",
            "_model_module_version": "1.5.0",
            "_model_name": "DescriptionStyleModel",
            "_view_count": null,
            "_view_module": "@jupyter-widgets/base",
            "_view_module_version": "1.2.0",
            "_view_name": "StyleView",
            "description_width": ""
          }
        },
        "cc84bcc420dd4324a496ef92bad28b30": {
          "model_module": "@jupyter-widgets/controls",
          "model_module_version": "1.5.0",
          "model_name": "HBoxModel",
          "state": {
            "_dom_classes": [],
            "_model_module": "@jupyter-widgets/controls",
            "_model_module_version": "1.5.0",
            "_model_name": "HBoxModel",
            "_view_count": null,
            "_view_module": "@jupyter-widgets/controls",
            "_view_module_version": "1.5.0",
            "_view_name": "HBoxView",
            "box_style": "",
            "children": [
              "IPY_MODEL_077260c87c5f448f94f876685aca4eef",
              "IPY_MODEL_050e3d715c05428bb607e6b805daebaa",
              "IPY_MODEL_6f383ad9ba554f0a9fab262dd9f3896b"
            ],
            "layout": "IPY_MODEL_df00fbe6e51d43c19c0c3587eb757ed9"
          }
        },
        "df00fbe6e51d43c19c0c3587eb757ed9": {
          "model_module": "@jupyter-widgets/base",
          "model_module_version": "1.2.0",
          "model_name": "LayoutModel",
          "state": {
            "_model_module": "@jupyter-widgets/base",
            "_model_module_version": "1.2.0",
            "_model_name": "LayoutModel",
            "_view_count": null,
            "_view_module": "@jupyter-widgets/base",
            "_view_module_version": "1.2.0",
            "_view_name": "LayoutView",
            "align_content": null,
            "align_items": null,
            "align_self": null,
            "border": null,
            "bottom": null,
            "display": "inline-flex",
            "flex": null,
            "flex_flow": "row wrap",
            "grid_area": null,
            "grid_auto_columns": null,
            "grid_auto_flow": null,
            "grid_auto_rows": null,
            "grid_column": null,
            "grid_gap": null,
            "grid_row": null,
            "grid_template_areas": null,
            "grid_template_columns": null,
            "grid_template_rows": null,
            "height": null,
            "justify_content": null,
            "justify_items": null,
            "left": null,
            "margin": null,
            "max_height": null,
            "max_width": null,
            "min_height": null,
            "min_width": null,
            "object_fit": null,
            "object_position": null,
            "order": null,
            "overflow": null,
            "overflow_x": null,
            "overflow_y": null,
            "padding": null,
            "right": null,
            "top": null,
            "visibility": "hidden",
            "width": "100%"
          }
        },
        "e87e947e62514626bcbf7660460aa3a7": {
          "model_module": "@jupyter-widgets/base",
          "model_module_version": "1.2.0",
          "model_name": "LayoutModel",
          "state": {
            "_model_module": "@jupyter-widgets/base",
            "_model_module_version": "1.2.0",
            "_model_name": "LayoutModel",
            "_view_count": null,
            "_view_module": "@jupyter-widgets/base",
            "_view_module_version": "1.2.0",
            "_view_name": "LayoutView",
            "align_content": null,
            "align_items": null,
            "align_self": null,
            "border": null,
            "bottom": null,
            "display": null,
            "flex": "2",
            "flex_flow": null,
            "grid_area": null,
            "grid_auto_columns": null,
            "grid_auto_flow": null,
            "grid_auto_rows": null,
            "grid_column": null,
            "grid_gap": null,
            "grid_row": null,
            "grid_template_areas": null,
            "grid_template_columns": null,
            "grid_template_rows": null,
            "height": null,
            "justify_content": null,
            "justify_items": null,
            "left": null,
            "margin": null,
            "max_height": null,
            "max_width": null,
            "min_height": null,
            "min_width": null,
            "object_fit": null,
            "object_position": null,
            "order": null,
            "overflow": null,
            "overflow_x": null,
            "overflow_y": null,
            "padding": null,
            "right": null,
            "top": null,
            "visibility": null,
            "width": null
          }
        },
        "fc456080b601480387f5bd6658063035": {
          "model_module": "@jupyter-widgets/base",
          "model_module_version": "1.2.0",
          "model_name": "LayoutModel",
          "state": {
            "_model_module": "@jupyter-widgets/base",
            "_model_module_version": "1.2.0",
            "_model_name": "LayoutModel",
            "_view_count": null,
            "_view_module": "@jupyter-widgets/base",
            "_view_module_version": "1.2.0",
            "_view_name": "LayoutView",
            "align_content": null,
            "align_items": null,
            "align_self": null,
            "border": null,
            "bottom": null,
            "display": null,
            "flex": null,
            "flex_flow": null,
            "grid_area": null,
            "grid_auto_columns": null,
            "grid_auto_flow": null,
            "grid_auto_rows": null,
            "grid_column": null,
            "grid_gap": null,
            "grid_row": null,
            "grid_template_areas": null,
            "grid_template_columns": null,
            "grid_template_rows": null,
            "height": null,
            "justify_content": null,
            "justify_items": null,
            "left": null,
            "margin": null,
            "max_height": null,
            "max_width": null,
            "min_height": null,
            "min_width": null,
            "object_fit": null,
            "object_position": null,
            "order": null,
            "overflow": null,
            "overflow_x": null,
            "overflow_y": null,
            "padding": null,
            "right": null,
            "top": null,
            "visibility": null,
            "width": null
          }
        }
      }
    }
  },
  "nbformat": 4,
  "nbformat_minor": 0
}